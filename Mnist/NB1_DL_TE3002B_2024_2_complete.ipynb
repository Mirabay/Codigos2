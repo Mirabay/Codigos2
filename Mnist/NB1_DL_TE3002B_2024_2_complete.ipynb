{
 "cells": [
  {
   "cell_type": "markdown",
   "metadata": {},
   "source": [
    "## Red Neuronal MultiCapa, OOP model"
   ]
  },
  {
   "cell_type": "code",
   "execution_count": 118,
   "metadata": {},
   "outputs": [],
   "source": [
    "import numpy as np\n",
    "import matplotlib.pyplot as plt\n",
    "%matplotlib inline"
   ]
  },
  {
   "cell_type": "markdown",
   "metadata": {},
   "source": [
    "### Importar Images"
   ]
  },
  {
   "cell_type": "code",
   "execution_count": 119,
   "metadata": {},
   "outputs": [],
   "source": [
    "from get_images import get_images"
   ]
  },
  {
   "cell_type": "code",
   "execution_count": 120,
   "metadata": {},
   "outputs": [],
   "source": [
    "# MNIST path\n",
    "mnist_path = './mnist_raw/'\n",
    "x_train_num, y_train_num, x_test_num, y_test_num = get_images(mnist_path)\n",
    "\n",
    "# Extraemos los primeros 5k datos, y los reagrupamos en 5k filas,y comlumnas como el producto flotante de 28*28 (por eso el -1)\n",
    "x_train = x_train_num[:50000].reshape(50000, -1).astype(float)\n",
    "y_train = y_train_num[:50000].reshape(50000, 1) # Extraemos 5k datos y los formatemaos en 5k filas y una sola columna.\n",
    "# Validation Set\n",
    "x_val = x_train_num[50000:].reshape(10000, -1).astype(float)\n",
    "y_val = y_train_num[50000:].reshape(10000, 1)\n",
    "# Set de pruebas\n",
    "x_test = x_test_num.copy().reshape(10000, -1).astype(float)\n",
    "y_test = y_test_num.copy().reshape(10000, 1)"
   ]
  },
  {
   "cell_type": "markdown",
   "metadata": {},
   "source": [
    "\n",
    "### Hasta este punto tenemos 3 sets\n",
    "- Un set de Entrenamiento   $\\to$ Es el set mas grande y son los datos para entrenar el modelo\n",
    "- Un set de validación      $\\to$ Es para afinar el modelo y ver que tan bien esta funcionando\n",
    "- Un Set de Pruebas         $\\to$ Sera la prueba final del modelo."
   ]
  },
  {
   "cell_type": "code",
   "execution_count": 121,
   "metadata": {},
   "outputs": [
    {
     "data": {
      "text/plain": [
       "(33.39512885204082, 78.6661972212754, 0.0)"
      ]
     },
     "execution_count": 121,
     "metadata": {},
     "output_type": "execute_result"
    }
   ],
   "source": [
    "x_train.mean(), x_train.std(), x_train.min()"
   ]
  },
  {
   "cell_type": "markdown",
   "metadata": {},
   "source": [
    "### Para normalizar los datos\n",
    "### $\\frac{X_{\\text{data}}-X_{\\text{mean}}}{X_{\\text{std}}}$"
   ]
  },
  {
   "cell_type": "code",
   "execution_count": 122,
   "metadata": {},
   "outputs": [],
   "source": [
    "def normalise(x_mean, x_std, x_data): # Función para normalizar los datos\n",
    "    return (x_data - x_mean) / x_std"
   ]
  },
  {
   "cell_type": "code",
   "execution_count": 123,
   "metadata": {},
   "outputs": [],
   "source": [
    "x_mean = x_train.mean() # sacamos la media\n",
    "x_std = x_train.std()   # sacamos el std\n",
    "\n",
    "# Normalizamos nuestros Set's de datos\n",
    "x_train = normalise(x_mean, x_std, x_train)\n",
    "x_val = normalise(x_mean, x_std, x_val)\n",
    "x_test = normalise(x_mean, x_std, x_test)"
   ]
  },
  {
   "cell_type": "code",
   "execution_count": 124,
   "metadata": {},
   "outputs": [
    {
     "data": {
      "text/plain": [
       "(-9.646705203355238e-18, 0.9999999999999997)"
      ]
     },
     "execution_count": 124,
     "metadata": {},
     "output_type": "execute_result"
    }
   ],
   "source": [
    "x_train.mean(), x_train.std() # Nos quedamos con una media muy pequeña y un STD sercano a 1"
   ]
  },
  {
   "cell_type": "markdown",
   "metadata": {},
   "source": [
    "### Graficar muestras"
   ]
  },
  {
   "cell_type": "code",
   "execution_count": 125,
   "metadata": {},
   "outputs": [],
   "source": [
    "def plot_number(image): # Grafica un numero \n",
    "    plt.figure(figsize=(5,5))\n",
    "    plt.imshow(image.squeeze(), cmap=plt.get_cmap('gray'))\n",
    "    plt.axis('off')\n",
    "    plt.show()"
   ]
  },
  {
   "cell_type": "code",
   "execution_count": 126,
   "metadata": {},
   "outputs": [
    {
     "name": "stdout",
     "output_type": "stream",
     "text": [
      "La imagen muestreada representa un: 2\n"
     ]
    },
    {
     "data": {
      "image/png": "[encoded data removed]",
      "text/plain": [
       "<Figure size 500x500 with 1 Axes>"
      ]
     },
     "metadata": {},
     "output_type": "display_data"
    }
   ],
   "source": [
    "# Grafica un numero random\n",
    "rnd_idx = np.random.randint(len(y_test))\n",
    "print(f'La imagen muestreada representa un: {y_test[rnd_idx, 0]}')\n",
    "plot_number(x_test_num[rnd_idx])"
   ]
  },
  {
   "cell_type": "markdown",
   "metadata": {},
   "source": [
    "Podemos observar como nos da una imagen aleatoria y el resultado correcto de esta imagen"
   ]
  },
  {
   "cell_type": "markdown",
   "metadata": {},
   "source": [
    "### Ecuaciones para nuestro modelo\n",
    "\n",
    "\n",
    "$$z^1 = W^1 X + b^1$$\n",
    "\n",
    "$$a^1 = ReLU(z^1) $$\n",
    "\n",
    "$$z^2 = W^2 a^1 + b^2$$\n",
    "\n",
    "$$\\hat{y} = \\frac{e^{z^{2_k}}}{\\sum_j{e^{z_j}}}$$\n",
    "\n",
    "\n",
    "$$ \\mathcal{L}(\\hat{y}^{i}, y^{i}) =  - y^{i}  \\ln(\\hat{y}^{i}) = -\\ln(\\hat{y}^i)$$\n",
    "\n",
    "\n",
    "$$ \\mathcal{J}(w, b) =  \\frac{1}{num\\_samples} \\sum_{i=1}^{num\\_samples}-\\ln(\\hat{y}^{i})$$"
   ]
  },
  {
   "cell_type": "markdown",
   "metadata": {},
   "source": [
    "### Funciones adicionales"
   ]
  },
  {
   "cell_type": "markdown",
   "metadata": {},
   "source": [
    "#### Mini batches"
   ]
  },
  {
   "cell_type": "code",
   "execution_count": 127,
   "metadata": {},
   "outputs": [],
   "source": [
    "def create_minibatches(mb_size, x, y, shuffle = True):\n",
    "    '''\n",
    "    x  #muestras, 784\n",
    "    y #muestras, 1\n",
    "    '''\n",
    "    print(x.shape[0], y.shape[0])\n",
    "    assert x.shape[0] == y.shape[0], 'Error en cantidad de muestras' # Aseguramos que la cantidad de muestras sea la misma\n",
    "    total_data = x.shape[0] # Obtenemos la cantidad de muestras\n",
    "    if shuffle: \n",
    "        idxs = np.arange(total_data)\n",
    "        np.random.shuffle(idxs)\n",
    "        x = x[idxs]\n",
    "        y = y[idxs]  \n",
    "    return ((x[i:i+mb_size], y[i:i+mb_size]) for i in range(0, total_data, mb_size))"
   ]
  },
  {
   "cell_type": "markdown",
   "metadata": {},
   "source": [
    "## Init parameters"
   ]
  },
  {
   "cell_type": "code",
   "execution_count": 128,
   "metadata": {},
   "outputs": [],
   "source": [
    "# Esta jalada no sirve de nada, la sacamos de internet\n",
    "def init_parameters(input_size,neurons):\n",
    "    \n",
    "    W1 = np.random.randn(neurons[0], input_size)*0.001\n",
    "    b1 = np.zeros((neurons[0],1))\n",
    "    \n",
    "    W2 = np.random.randn(neurons[1],neurons[0]*0.001)\n",
    "    b2 = np.zeros((neurons[1],1))\n",
    "    \n",
    "    return{'W1':W1,'b1':b1 ,'W2':W2,'b2':b2}"
   ]
  },
  {
   "cell_type": "markdown",
   "metadata": {},
   "source": [
    "## Nuestra clase Linear, ReLU y Sequential"
   ]
  },
  {
   "cell_type": "code",
   "execution_count": 129,
   "metadata": {},
   "outputs": [],
   "source": [
    "class np_tensor(np.ndarray):pass # Clase para definir un tensor, que es una matriz de numpy, pero con un nombre para poder identificarlo"
   ]
  },
  {
   "cell_type": "code",
   "execution_count": 130,
   "metadata": {},
   "outputs": [],
   "source": [
    "a = np.array([0, 0])\n",
    "b = a.view(np_tensor)"
   ]
  },
  {
   "cell_type": "code",
   "execution_count": 131,
   "metadata": {},
   "outputs": [
    {
     "data": {
      "text/plain": [
       "numpy.ndarray"
      ]
     },
     "execution_count": 131,
     "metadata": {},
     "output_type": "execute_result"
    }
   ],
   "source": [
    "type(a)"
   ]
  },
  {
   "cell_type": "code",
   "execution_count": 132,
   "metadata": {},
   "outputs": [
    {
     "data": {
      "text/plain": [
       "__main__.np_tensor"
      ]
     },
     "execution_count": 132,
     "metadata": {},
     "output_type": "execute_result"
    }
   ],
   "source": [
    "type(b)"
   ]
  },
  {
   "cell_type": "code",
   "execution_count": 133,
   "metadata": {},
   "outputs": [
    {
     "data": {
      "text/plain": [
       "np_tensor([ True,  True])"
      ]
     },
     "execution_count": 133,
     "metadata": {},
     "output_type": "execute_result"
    }
   ],
   "source": [
    "a == b"
   ]
  },
  {
   "cell_type": "code",
   "execution_count": 134,
   "metadata": {},
   "outputs": [
    {
     "name": "stdout",
     "output_type": "stream",
     "text": [
      "False\n"
     ]
    }
   ],
   "source": [
    "print(a is b) \n"
   ]
  },
  {
   "cell_type": "markdown",
   "metadata": {},
   "source": [
    "###  Clase Linear"
   ]
  },
  {
   "cell_type": "code",
   "execution_count": 135,
   "metadata": {
    "code_folding": []
   },
   "outputs": [],
   "source": [
    "class Linear(): # Clase para definir una capa lineal\n",
    "    def __init__(self, input_size, output_size):\n",
    "        '''\n",
    "        Init parameters utilizando Kaiming He\n",
    "        '''\n",
    "        self.W = (np.random.randn(output_size, input_size) /np.sqrt(input_size/2)).view(np_tensor) # Inicializamos los pesos de forma aleatoria\n",
    "        self.b = np.zeros((output_size, 1)).view(np_tensor) # Inicializamos los bias en 0\n",
    "        \n",
    "    def __call__(self, X): # esta el foward de la clase lineal\n",
    "        Z= self.W @ X + self.b # Multiplicamos los pesos por la entrada y le sumamos el bias\n",
    "        return Z\n",
    "        \n",
    "    def backward(self, X, Z): # esta es la parte de backpropagation\n",
    "        X.grad = self.W.T @ Z.grad # Calculamos el gradiente de la entrada\n",
    "        self.W.grad = Z.grad @ X.T # Calculamos el gradiente de los pesos\n",
    "        self.b.grad = np.sum(Z.grad, axis=1, keepdims=True) # Calculamos el gradiente del bias\n",
    "        "
   ]
  },
  {
   "cell_type": "markdown",
   "metadata": {},
   "source": [
    "### Clase ReLU"
   ]
  },
  {
   "cell_type": "code",
   "execution_count": 136,
   "metadata": {
    "code_folding": []
   },
   "outputs": [],
   "source": [
    "class ReLU(): # Clase para la función de activación ReLU, debe regresar el calor maximo entre 0 y el valor de Z\n",
    "    def __call__(self, Z):\n",
    "        return np.maximum(0, Z) # Regresamos el valor maximo entre 0 y Z\n",
    "    \n",
    "    def backward(self, Z, A):\n",
    "        Z.grad = A.grad.copy() # Copiamos el gradiente de A a Z\n",
    "        Z.grad[Z < 0] = 0 # Si Z es menor a 0, el gradiente es 0\n",
    "        return Z.grad"
   ]
  },
  {
   "cell_type": "markdown",
   "metadata": {},
   "source": [
    "### Clase Sequential"
   ]
  },
  {
   "cell_type": "code",
   "execution_count": 137,
   "metadata": {
    "code_folding": []
   },
   "outputs": [],
   "source": [
    "class Sequential_layers():\n",
    "    def __init__(self, layers): # Inicializamos las capas\n",
    "        '''\n",
    "        layers - lista que contiene objetos de tipo Linear, ReLU\n",
    "        '''\n",
    "        self.layers = layers\n",
    "        self.x = None\n",
    "        self.outputs = {}\n",
    "\n",
    "    def __call__(self, X): # Forward de la red\n",
    "        self.x = X\n",
    "        self.outputs['l0'] = self.x #El diccionario tien como llave L0\n",
    "        for i, layer in enumerate(self.layers,1):\n",
    "          self.x=layer(self.x)\n",
    "          self.outputs['l'+str(i)] = self.x\n",
    "        return self.x # La salida de la ultima capa.\n",
    "\n",
    "    def backward(self):\n",
    "        for i in reversed(range(len(self.layers))):\n",
    "          self.layers[i].backward(self.outputs['l' + str(i)], self.outputs['l' + str(i + 1)])\n",
    "\n",
    "    def update(self, learning_rate = 1e-3):\n",
    "        for layer in self.layers:\n",
    "          if isinstance(layer, ReLU): continue\n",
    "          layer.W = layer.W - learning_rate * layer.W.grad\n",
    "          layer.b = layer.b - learning_rate * layer.b.grad\n",
    "\n",
    "    # Predicts the image\n",
    "    def predict(self, X):\n",
    "        return np.argmax(self(X))"
   ]
  },
  {
   "cell_type": "markdown",
   "metadata": {},
   "source": [
    "### Cost Function"
   ]
  },
  {
   "cell_type": "code",
   "execution_count": 138,
   "metadata": {
    "code_folding": []
   },
   "outputs": [],
   "source": [
    "# Scores if the entry for softmax\n",
    "def softmaxXEntropy(x, y):\n",
    "  exp_scores = np.exp(x)\n",
    "  sum_exp_scores = np.sum(exp_scores, axis = 0, keepdims = True)\n",
    "  probs = exp_scores/sum_exp_scores\n",
    "\n",
    "  # XEntropy\n",
    "  y_hat = probs[y.squeeze(), np.arange(x.shape[1])]\n",
    "  cost = np.mean(-np.log(y_hat))\n",
    "  probs[y.squeeze(), np.arange(x.shape[1])] -= 1\n",
    "\n",
    "  x.grad = probs\n",
    "  return probs, cost\n",
    "  \n",
    "  "
   ]
  },
  {
   "cell_type": "markdown",
   "metadata": {},
   "source": [
    "### Loop de entrenamiento"
   ]
  },
  {
   "cell_type": "code",
   "execution_count": 139,
   "metadata": {
    "code_folding": []
   },
   "outputs": [],
   "source": [
    "def train(model, epochs, mb_size=128, learning_rate = 1e-3): # Función para entrenar el modelo\n",
    "    for epoch in range(epochs): # Recorremos las épocas\n",
    "        for i,(x,y) in enumerate(create_minibatches(mb_size, x_train, y_train)): # Recorremos los minibatches\n",
    "            scores = model(x.T.view(np_tensor)) # Obtenemos los scores\n",
    "            _,cost = softmaxXEntropy(scores, y) # Calculamos el costo\n",
    "            model.backward() # Backpropagation\n",
    "            model.update(learning_rate) # Actualizamos los pesos\n",
    "            \n",
    "        print(f'Epoch: {epoch} - Costo: {cost.mean()}') # Imprimimos el costo"
   ]
  },
  {
   "cell_type": "code",
   "execution_count": 146,
   "metadata": {
    "code_folding": []
   },
   "outputs": [],
   "source": [
    "def accuracy(model,x, y, mb_size): # Función para calcular la precisión del modelo\n",
    "    correct = 0\n",
    "    total = 0\n",
    "    for i, (x,y) in enumerate (create_minibatches(mb_size, x, y)): # Recorremos los minibatches\n",
    "        pred = model(x.T.view(np_tensor)) # Obtenemos las predicciones\n",
    "        correct += np.sum(np.argmax(pred, axis=0) == y.squeeze()) # Sumamos las predicciones correctas\n",
    "        total += pred.shape[1] # Sumamos el total de predicciones\n",
    "    return correct/total"
   ]
  },
  {
   "cell_type": "code",
   "execution_count": 141,
   "metadata": {},
   "outputs": [],
   "source": [
    "model = Sequential_layers([Linear(784, 200), ReLU(), Linear(200, 200), ReLU(), Linear(200, 10)])\n",
    "mb_size = 512\n",
    "learning_rate = 1e-4\n",
    "epochs = 20\n"
   ]
  },
  {
   "cell_type": "code",
   "execution_count": 142,
   "metadata": {},
   "outputs": [
    {
     "name": "stdout",
     "output_type": "stream",
     "text": [
      "50000 50000\n"
     ]
    },
    {
     "name": "stdout",
     "output_type": "stream",
     "text": [
      "Epoch: 0 - Costo: 0.2923410646562736\n",
      "50000 50000\n",
      "Epoch: 1 - Costo: 0.16888781072819137\n",
      "50000 50000\n",
      "Epoch: 2 - Costo: 0.19945193693563332\n",
      "50000 50000\n",
      "Epoch: 3 - Costo: 0.19364229610812386\n",
      "50000 50000\n",
      "Epoch: 4 - Costo: 0.12306251468736244\n",
      "50000 50000\n",
      "Epoch: 5 - Costo: 0.22974341465270406\n",
      "50000 50000\n",
      "Epoch: 6 - Costo: 0.08459504735720388\n",
      "50000 50000\n",
      "Epoch: 7 - Costo: 0.155938757621985\n",
      "50000 50000\n",
      "Epoch: 8 - Costo: 0.17975278457694413\n",
      "50000 50000\n",
      "Epoch: 9 - Costo: 0.07653311731190317\n",
      "50000 50000\n",
      "Epoch: 10 - Costo: 0.10739236018213509\n",
      "50000 50000\n",
      "Epoch: 11 - Costo: 0.09348009381547806\n",
      "50000 50000\n",
      "Epoch: 12 - Costo: 0.0662559820101726\n",
      "50000 50000\n",
      "Epoch: 13 - Costo: 0.05713285095204463\n",
      "50000 50000\n",
      "Epoch: 14 - Costo: 0.12378015654792197\n",
      "50000 50000\n",
      "Epoch: 15 - Costo: 0.087610450052576\n",
      "50000 50000\n",
      "Epoch: 16 - Costo: 0.0543266628069236\n",
      "50000 50000\n",
      "Epoch: 17 - Costo: 0.04331822549220271\n",
      "50000 50000\n",
      "Epoch: 18 - Costo: 0.042793540962715995\n",
      "50000 50000\n",
      "Epoch: 19 - Costo: 0.05816395416698712\n"
     ]
    }
   ],
   "source": [
    "train(model, epochs, mb_size, learning_rate)"
   ]
  },
  {
   "cell_type": "code",
   "execution_count": 147,
   "metadata": {},
   "outputs": [
    {
     "name": "stdout",
     "output_type": "stream",
     "text": [
      "50000 50000\n",
      "Epoch: 0 - Costo: 0.020138707746782506\n",
      "50000 50000\n",
      "Epoch: 1 - Costo: 0.01599543118234803\n",
      "50000 50000\n",
      "Epoch: 2 - Costo: 0.01860841702548958\n",
      "50000 50000\n",
      "Epoch: 3 - Costo: 0.022175645868682516\n",
      "50000 50000\n",
      "Epoch: 4 - Costo: 0.013815438142274166\n",
      "50000 50000\n",
      "Epoch: 5 - Costo: 0.020857966413346068\n",
      "50000 50000\n",
      "Epoch: 6 - Costo: 0.02164972407291364\n",
      "50000 50000\n",
      "Epoch: 7 - Costo: 0.016460416859528\n",
      "50000 50000\n",
      "Epoch: 8 - Costo: 0.012348597786039493\n",
      "50000 50000\n",
      "Epoch: 9 - Costo: 0.02008609085888698\n",
      "50000 50000\n",
      "Epoch: 10 - Costo: 0.012924882207942714\n",
      "50000 50000\n",
      "Epoch: 11 - Costo: 0.009963127673822082\n",
      "50000 50000\n",
      "Epoch: 12 - Costo: 0.009724836781899508\n",
      "50000 50000\n",
      "Epoch: 13 - Costo: 0.012997594637552583\n",
      "50000 50000\n",
      "Epoch: 14 - Costo: 0.014926506794317814\n",
      "50000 50000\n",
      "Epoch: 15 - Costo: 0.020453797652406555\n",
      "50000 50000\n",
      "Epoch: 16 - Costo: 0.00924046425973867\n",
      "50000 50000\n",
      "Epoch: 17 - Costo: 0.016657394976715062\n",
      "50000 50000\n",
      "Epoch: 18 - Costo: 0.008015147253224157\n",
      "50000 50000\n",
      "Epoch: 19 - Costo: 0.009748727413098042\n"
     ]
    }
   ],
   "source": [
    "train(model, epochs, mb_size, learning_rate)"
   ]
  },
  {
   "cell_type": "code",
   "execution_count": 148,
   "metadata": {},
   "outputs": [
    {
     "name": "stdout",
     "output_type": "stream",
     "text": [
      "10000 10000\n",
      "0.9765\n"
     ]
    }
   ],
   "source": [
    "print(accuracy(model,x_test, y_test, mb_size))"
   ]
  },
  {
   "cell_type": "code",
   "execution_count": 149,
   "metadata": {},
   "outputs": [
    {
     "data": {
      "image/png": "[encoded data removed]",
      "text/plain": [
       "<Figure size 500x500 with 1 Axes>"
      ]
     },
     "metadata": {},
     "output_type": "display_data"
    },
    {
     "name": "stdout",
     "output_type": "stream",
     "text": [
      "el valor predicho es: 3, el valor real es:3\n"
     ]
    }
   ],
   "source": [
    "idx = np.random.randint(len(y_test))\n",
    "plot_number(x_test_num[idx])\n",
    "pred = model.predict(x_test[idx].reshape(-1, 1))\n",
    "print(f'el valor predicho es: {pred}, el valor real es:{y_test[idx][0]}')"
   ]
  },
  {
   "cell_type": "code",
   "execution_count": null,
   "metadata": {},
   "outputs": [],
   "source": []
  },
  {
   "cell_type": "code",
   "execution_count": null,
   "metadata": {},
   "outputs": [],
   "source": []
  },
  {
   "cell_type": "code",
   "execution_count": null,
   "metadata": {},
   "outputs": [],
   "source": []
  },
  {
   "cell_type": "code",
   "execution_count": null,
   "metadata": {},
   "outputs": [],
   "source": [
    "a = [33, 44, 555, 666]"
   ]
  },
  {
   "cell_type": "code",
   "execution_count": null,
   "metadata": {},
   "outputs": [],
   "source": [
    "for i in reversed(range(len(a))):\n",
    "    print(a[i])"
   ]
  },
  {
   "cell_type": "code",
   "execution_count": null,
   "metadata": {},
   "outputs": [],
   "source": []
  }
 ],
 "metadata": {
  "kernelspec": {
   "display_name": "Python 3 (ipykernel)",
   "language": "python",
   "name": "python3"
  },
  "language_info": {
   "codemirror_mode": {
    "name": "ipython",
    "version": 3
   },
   "file_extension": ".py",
   "mimetype": "text/x-python",
   "name": "python",
   "nbconvert_exporter": "python",
   "pygments_lexer": "ipython3",
   "version": "3.12.2"
  },
  "toc": {
   "base_numbering": 1,
   "nav_menu": {},
   "number_sections": true,
   "sideBar": true,
   "skip_h1_title": false,
   "title_cell": "Table of Contents",
   "title_sidebar": "Contents",
   "toc_cell": false,
   "toc_position": {},
   "toc_section_display": true,
   "toc_window_display": false
  },
  "varInspector": {
   "cols": {
    "lenName": 16,
    "lenType": 16,
    "lenVar": 40
   },
   "kernels_config": {
    "python": {
     "delete_cmd_postfix": "",
     "delete_cmd_prefix": "del ",
     "library": "var_list.py",
     "varRefreshCmd": "print(var_dic_list())"
    },
    "r": {
     "delete_cmd_postfix": ") ",
     "delete_cmd_prefix": "rm(",
     "library": "var_list.r",
     "varRefreshCmd": "cat(var_dic_list()) "
    }
   },
   "types_to_exclude": [
    "module",
    "function",
    "builtin_function_or_method",
    "instance",
    "_Feature"
   ],
   "window_display": false
  }
 },
 "nbformat": 4,
 "nbformat_minor": 4
}
